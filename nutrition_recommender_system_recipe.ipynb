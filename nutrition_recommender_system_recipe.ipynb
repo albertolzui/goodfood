{
 "cells": [
  {
   "cell_type": "markdown",
   "source": [
    "Import Packages / Libraries"
   ],
   "metadata": {
    "collapsed": false
   }
  },
  {
   "cell_type": "code",
   "execution_count": 3,
   "metadata": {
    "collapsed": true
   },
   "outputs": [],
   "source": [
    "import numpy as np\n",
    "import pandas as pd"
   ]
  },
  {
   "cell_type": "markdown",
   "source": [
    "Read the Dataset using pandas' read_csv() function."
   ],
   "metadata": {
    "collapsed": false
   }
  },
  {
   "cell_type": "code",
   "execution_count": 4,
   "outputs": [],
   "source": [
    "df = pd.read_csv('RAW_recipes.csv')"
   ],
   "metadata": {
    "collapsed": false
   }
  },
  {
   "cell_type": "code",
   "execution_count": 5,
   "outputs": [
    {
     "data": {
      "text/plain": "                                         name      id  minutes   \n0  arriba   baked winter squash mexican style  137739       55  \\\n1            a bit different  breakfast pizza   31490       30   \n2                   all in the kitchen  chili  112140      130   \n3                          alouette  potatoes   59389       45   \n4          amish  tomato ketchup  for canning   44061      190   \n\n   contributor_id   submitted   \n0           47892  2005-09-16  \\\n1           26278  2002-06-17   \n2          196586  2005-02-25   \n3           68585  2003-04-14   \n4           41706  2002-10-25   \n\n                                                tags   \n0  ['60-minutes-or-less', 'time-to-make', 'course...  \\\n1  ['30-minutes-or-less', 'time-to-make', 'course...   \n2  ['time-to-make', 'course', 'preparation', 'mai...   \n3  ['60-minutes-or-less', 'time-to-make', 'course...   \n4  ['weeknight', 'time-to-make', 'course', 'main-...   \n\n                                    nutrition  n_steps   \n0       [51.5, 0.0, 13.0, 0.0, 2.0, 0.0, 4.0]       11  \\\n1   [173.4, 18.0, 0.0, 17.0, 22.0, 35.0, 1.0]        9   \n2  [269.8, 22.0, 32.0, 48.0, 39.0, 27.0, 5.0]        6   \n3   [368.1, 17.0, 10.0, 2.0, 14.0, 8.0, 20.0]       11   \n4   [352.9, 1.0, 337.0, 23.0, 3.0, 0.0, 28.0]        5   \n\n                                               steps   \n0  ['make a choice and proceed with recipe', 'dep...  \\\n1  ['preheat oven to 425 degrees f', 'press dough...   \n2  ['brown ground beef in large pot', 'add choppe...   \n3  ['place potatoes in a large pot of lightly sal...   \n4  ['mix all ingredients& boil for 2 1 / 2 hours ...   \n\n                                         description   \n0  autumn is my favorite time of year to cook! th...  \\\n1  this recipe calls for the crust to be prebaked...   \n2  this modified version of 'mom's' chili was a h...   \n3  this is a super easy, great tasting, make ahea...   \n4  my dh's amish mother raised him on this recipe...   \n\n                                         ingredients  n_ingredients  \n0  ['winter squash', 'mexican seasoning', 'mixed ...              7  \n1  ['prepared pizza crust', 'sausage patty', 'egg...              6  \n2  ['ground beef', 'yellow onions', 'diced tomato...             13  \n3  ['spreadable cheese with garlic and herbs', 'n...             11  \n4  ['tomato juice', 'apple cider vinegar', 'sugar...              8  ",
      "text/html": "<div>\n<style scoped>\n    .dataframe tbody tr th:only-of-type {\n        vertical-align: middle;\n    }\n\n    .dataframe tbody tr th {\n        vertical-align: top;\n    }\n\n    .dataframe thead th {\n        text-align: right;\n    }\n</style>\n<table border=\"1\" class=\"dataframe\">\n  <thead>\n    <tr style=\"text-align: right;\">\n      <th></th>\n      <th>name</th>\n      <th>id</th>\n      <th>minutes</th>\n      <th>contributor_id</th>\n      <th>submitted</th>\n      <th>tags</th>\n      <th>nutrition</th>\n      <th>n_steps</th>\n      <th>steps</th>\n      <th>description</th>\n      <th>ingredients</th>\n      <th>n_ingredients</th>\n    </tr>\n  </thead>\n  <tbody>\n    <tr>\n      <th>0</th>\n      <td>arriba   baked winter squash mexican style</td>\n      <td>137739</td>\n      <td>55</td>\n      <td>47892</td>\n      <td>2005-09-16</td>\n      <td>['60-minutes-or-less', 'time-to-make', 'course...</td>\n      <td>[51.5, 0.0, 13.0, 0.0, 2.0, 0.0, 4.0]</td>\n      <td>11</td>\n      <td>['make a choice and proceed with recipe', 'dep...</td>\n      <td>autumn is my favorite time of year to cook! th...</td>\n      <td>['winter squash', 'mexican seasoning', 'mixed ...</td>\n      <td>7</td>\n    </tr>\n    <tr>\n      <th>1</th>\n      <td>a bit different  breakfast pizza</td>\n      <td>31490</td>\n      <td>30</td>\n      <td>26278</td>\n      <td>2002-06-17</td>\n      <td>['30-minutes-or-less', 'time-to-make', 'course...</td>\n      <td>[173.4, 18.0, 0.0, 17.0, 22.0, 35.0, 1.0]</td>\n      <td>9</td>\n      <td>['preheat oven to 425 degrees f', 'press dough...</td>\n      <td>this recipe calls for the crust to be prebaked...</td>\n      <td>['prepared pizza crust', 'sausage patty', 'egg...</td>\n      <td>6</td>\n    </tr>\n    <tr>\n      <th>2</th>\n      <td>all in the kitchen  chili</td>\n      <td>112140</td>\n      <td>130</td>\n      <td>196586</td>\n      <td>2005-02-25</td>\n      <td>['time-to-make', 'course', 'preparation', 'mai...</td>\n      <td>[269.8, 22.0, 32.0, 48.0, 39.0, 27.0, 5.0]</td>\n      <td>6</td>\n      <td>['brown ground beef in large pot', 'add choppe...</td>\n      <td>this modified version of 'mom's' chili was a h...</td>\n      <td>['ground beef', 'yellow onions', 'diced tomato...</td>\n      <td>13</td>\n    </tr>\n    <tr>\n      <th>3</th>\n      <td>alouette  potatoes</td>\n      <td>59389</td>\n      <td>45</td>\n      <td>68585</td>\n      <td>2003-04-14</td>\n      <td>['60-minutes-or-less', 'time-to-make', 'course...</td>\n      <td>[368.1, 17.0, 10.0, 2.0, 14.0, 8.0, 20.0]</td>\n      <td>11</td>\n      <td>['place potatoes in a large pot of lightly sal...</td>\n      <td>this is a super easy, great tasting, make ahea...</td>\n      <td>['spreadable cheese with garlic and herbs', 'n...</td>\n      <td>11</td>\n    </tr>\n    <tr>\n      <th>4</th>\n      <td>amish  tomato ketchup  for canning</td>\n      <td>44061</td>\n      <td>190</td>\n      <td>41706</td>\n      <td>2002-10-25</td>\n      <td>['weeknight', 'time-to-make', 'course', 'main-...</td>\n      <td>[352.9, 1.0, 337.0, 23.0, 3.0, 0.0, 28.0]</td>\n      <td>5</td>\n      <td>['mix all ingredients&amp; boil for 2 1 / 2 hours ...</td>\n      <td>my dh's amish mother raised him on this recipe...</td>\n      <td>['tomato juice', 'apple cider vinegar', 'sugar...</td>\n      <td>8</td>\n    </tr>\n  </tbody>\n</table>\n</div>"
     },
     "execution_count": 5,
     "metadata": {},
     "output_type": "execute_result"
    }
   ],
   "source": [
    "df.head()"
   ],
   "metadata": {
    "collapsed": false
   }
  },
  {
   "cell_type": "markdown",
   "source": [
    "The original dataset comprises a nutrition column which contains the total calorie content that a user would be taking in if they follow the recipe and the suggested portions, as well percentage value of the daily requirement (PDV) for fat, sugar, sodium, protein, saturated fat, carbohydrate that the recipe contains.\n",
    "\n",
    "From the nutrition column we extract values for calories, total fat, sugar, sodium, protein, saturated fat, carbohydrates into their own columns."
   ],
   "metadata": {
    "collapsed": false
   }
  },
  {
   "cell_type": "code",
   "execution_count": 7,
   "outputs": [],
   "source": [
    "df[['calories','total fat (PDV)','sugar (PDV)','sodium (PDV)','protein (PDV)','saturated fat (PDV)','carbohydrates (PDV)']] = df.nutrition.str.split(\",\",expand=True)\n",
    "\n",
    "df['calories'] =  df['calories'].apply(lambda x: x.replace('[',''))\n",
    "\n",
    "df['carbohydrates (PDV)'] =  df['carbohydrates (PDV)'].apply(lambda x: x.replace(']',''))"
   ],
   "metadata": {
    "collapsed": false
   }
  },
  {
   "cell_type": "markdown",
   "source": [
    "The type for the values of the new columns is set to float."
   ],
   "metadata": {
    "collapsed": false
   }
  },
  {
   "cell_type": "code",
   "execution_count": 15,
   "outputs": [
    {
     "data": {
      "text/plain": "                                         name      id  minutes   \n0  arriba   baked winter squash mexican style  137739       55  \\\n1            a bit different  breakfast pizza   31490       30   \n2                   all in the kitchen  chili  112140      130   \n3                          alouette  potatoes   59389       45   \n4          amish  tomato ketchup  for canning   44061      190   \n\n   contributor_id   submitted   \n0           47892  2005-09-16  \\\n1           26278  2002-06-17   \n2          196586  2005-02-25   \n3           68585  2003-04-14   \n4           41706  2002-10-25   \n\n                                                tags   \n0  ['60-minutes-or-less', 'time-to-make', 'course...  \\\n1  ['30-minutes-or-less', 'time-to-make', 'course...   \n2  ['time-to-make', 'course', 'preparation', 'mai...   \n3  ['60-minutes-or-less', 'time-to-make', 'course...   \n4  ['weeknight', 'time-to-make', 'course', 'main-...   \n\n                                    nutrition  n_steps   \n0       [51.5, 0.0, 13.0, 0.0, 2.0, 0.0, 4.0]       11  \\\n1   [173.4, 18.0, 0.0, 17.0, 22.0, 35.0, 1.0]        9   \n2  [269.8, 22.0, 32.0, 48.0, 39.0, 27.0, 5.0]        6   \n3   [368.1, 17.0, 10.0, 2.0, 14.0, 8.0, 20.0]       11   \n4   [352.9, 1.0, 337.0, 23.0, 3.0, 0.0, 28.0]        5   \n\n                                               steps   \n0  ['make a choice and proceed with recipe', 'dep...  \\\n1  ['preheat oven to 425 degrees f', 'press dough...   \n2  ['brown ground beef in large pot', 'add choppe...   \n3  ['place potatoes in a large pot of lightly sal...   \n4  ['mix all ingredients& boil for 2 1 / 2 hours ...   \n\n                                         description   \n0  autumn is my favorite time of year to cook! th...  \\\n1  this recipe calls for the crust to be prebaked...   \n2  this modified version of 'mom's' chili was a h...   \n3  this is a super easy, great tasting, make ahea...   \n4  my dh's amish mother raised him on this recipe...   \n\n                                         ingredients  n_ingredients  calories   \n0  ['winter squash', 'mexican seasoning', 'mixed ...              7      51.5  \\\n1  ['prepared pizza crust', 'sausage patty', 'egg...              6     173.4   \n2  ['ground beef', 'yellow onions', 'diced tomato...             13     269.8   \n3  ['spreadable cheese with garlic and herbs', 'n...             11     368.1   \n4  ['tomato juice', 'apple cider vinegar', 'sugar...              8     352.9   \n\n   total fat (PDV)  sugar (PDV)  sodium (PDV)  protein (PDV)   \n0              0.0         13.0           0.0            2.0  \\\n1             18.0          0.0          17.0           22.0   \n2             22.0         32.0          48.0           39.0   \n3             17.0         10.0           2.0           14.0   \n4              1.0        337.0          23.0            3.0   \n\n   saturated fat (PDV)  carbohydrates (PDV)  \n0                  0.0                  4.0  \n1                 35.0                  1.0  \n2                 27.0                  5.0  \n3                  8.0                 20.0  \n4                  0.0                 28.0  ",
      "text/html": "<div>\n<style scoped>\n    .dataframe tbody tr th:only-of-type {\n        vertical-align: middle;\n    }\n\n    .dataframe tbody tr th {\n        vertical-align: top;\n    }\n\n    .dataframe thead th {\n        text-align: right;\n    }\n</style>\n<table border=\"1\" class=\"dataframe\">\n  <thead>\n    <tr style=\"text-align: right;\">\n      <th></th>\n      <th>name</th>\n      <th>id</th>\n      <th>minutes</th>\n      <th>contributor_id</th>\n      <th>submitted</th>\n      <th>tags</th>\n      <th>nutrition</th>\n      <th>n_steps</th>\n      <th>steps</th>\n      <th>description</th>\n      <th>ingredients</th>\n      <th>n_ingredients</th>\n      <th>calories</th>\n      <th>total fat (PDV)</th>\n      <th>sugar (PDV)</th>\n      <th>sodium (PDV)</th>\n      <th>protein (PDV)</th>\n      <th>saturated fat (PDV)</th>\n      <th>carbohydrates (PDV)</th>\n    </tr>\n  </thead>\n  <tbody>\n    <tr>\n      <th>0</th>\n      <td>arriba   baked winter squash mexican style</td>\n      <td>137739</td>\n      <td>55</td>\n      <td>47892</td>\n      <td>2005-09-16</td>\n      <td>['60-minutes-or-less', 'time-to-make', 'course...</td>\n      <td>[51.5, 0.0, 13.0, 0.0, 2.0, 0.0, 4.0]</td>\n      <td>11</td>\n      <td>['make a choice and proceed with recipe', 'dep...</td>\n      <td>autumn is my favorite time of year to cook! th...</td>\n      <td>['winter squash', 'mexican seasoning', 'mixed ...</td>\n      <td>7</td>\n      <td>51.5</td>\n      <td>0.0</td>\n      <td>13.0</td>\n      <td>0.0</td>\n      <td>2.0</td>\n      <td>0.0</td>\n      <td>4.0</td>\n    </tr>\n    <tr>\n      <th>1</th>\n      <td>a bit different  breakfast pizza</td>\n      <td>31490</td>\n      <td>30</td>\n      <td>26278</td>\n      <td>2002-06-17</td>\n      <td>['30-minutes-or-less', 'time-to-make', 'course...</td>\n      <td>[173.4, 18.0, 0.0, 17.0, 22.0, 35.0, 1.0]</td>\n      <td>9</td>\n      <td>['preheat oven to 425 degrees f', 'press dough...</td>\n      <td>this recipe calls for the crust to be prebaked...</td>\n      <td>['prepared pizza crust', 'sausage patty', 'egg...</td>\n      <td>6</td>\n      <td>173.4</td>\n      <td>18.0</td>\n      <td>0.0</td>\n      <td>17.0</td>\n      <td>22.0</td>\n      <td>35.0</td>\n      <td>1.0</td>\n    </tr>\n    <tr>\n      <th>2</th>\n      <td>all in the kitchen  chili</td>\n      <td>112140</td>\n      <td>130</td>\n      <td>196586</td>\n      <td>2005-02-25</td>\n      <td>['time-to-make', 'course', 'preparation', 'mai...</td>\n      <td>[269.8, 22.0, 32.0, 48.0, 39.0, 27.0, 5.0]</td>\n      <td>6</td>\n      <td>['brown ground beef in large pot', 'add choppe...</td>\n      <td>this modified version of 'mom's' chili was a h...</td>\n      <td>['ground beef', 'yellow onions', 'diced tomato...</td>\n      <td>13</td>\n      <td>269.8</td>\n      <td>22.0</td>\n      <td>32.0</td>\n      <td>48.0</td>\n      <td>39.0</td>\n      <td>27.0</td>\n      <td>5.0</td>\n    </tr>\n    <tr>\n      <th>3</th>\n      <td>alouette  potatoes</td>\n      <td>59389</td>\n      <td>45</td>\n      <td>68585</td>\n      <td>2003-04-14</td>\n      <td>['60-minutes-or-less', 'time-to-make', 'course...</td>\n      <td>[368.1, 17.0, 10.0, 2.0, 14.0, 8.0, 20.0]</td>\n      <td>11</td>\n      <td>['place potatoes in a large pot of lightly sal...</td>\n      <td>this is a super easy, great tasting, make ahea...</td>\n      <td>['spreadable cheese with garlic and herbs', 'n...</td>\n      <td>11</td>\n      <td>368.1</td>\n      <td>17.0</td>\n      <td>10.0</td>\n      <td>2.0</td>\n      <td>14.0</td>\n      <td>8.0</td>\n      <td>20.0</td>\n    </tr>\n    <tr>\n      <th>4</th>\n      <td>amish  tomato ketchup  for canning</td>\n      <td>44061</td>\n      <td>190</td>\n      <td>41706</td>\n      <td>2002-10-25</td>\n      <td>['weeknight', 'time-to-make', 'course', 'main-...</td>\n      <td>[352.9, 1.0, 337.0, 23.0, 3.0, 0.0, 28.0]</td>\n      <td>5</td>\n      <td>['mix all ingredients&amp; boil for 2 1 / 2 hours ...</td>\n      <td>my dh's amish mother raised him on this recipe...</td>\n      <td>['tomato juice', 'apple cider vinegar', 'sugar...</td>\n      <td>8</td>\n      <td>352.9</td>\n      <td>1.0</td>\n      <td>337.0</td>\n      <td>23.0</td>\n      <td>3.0</td>\n      <td>0.0</td>\n      <td>28.0</td>\n    </tr>\n  </tbody>\n</table>\n</div>"
     },
     "execution_count": 15,
     "metadata": {},
     "output_type": "execute_result"
    }
   ],
   "source": [
    "df[['calories','total fat (PDV)','sugar (PDV)','sodium (PDV)','protein (PDV)','saturated fat (PDV)','carbohydrates (PDV)']] = df[['calories','total fat (PDV)','sugar (PDV)','sodium (PDV)','protein (PDV)','saturated fat (PDV)','carbohydrates (PDV)']].astype('float')\n",
    "df.head()"
   ],
   "metadata": {
    "collapsed": false
   }
  },
  {
   "cell_type": "code",
   "execution_count": 14,
   "outputs": [
    {
     "data": {
      "text/plain": "name                    object\nid                       int64\nminutes                  int64\ncontributor_id           int64\nsubmitted               object\ntags                    object\nnutrition               object\nn_steps                  int64\nsteps                   object\ndescription             object\ningredients             object\nn_ingredients            int64\ncalories               float64\ntotal fat (PDV)        float64\nsugar (PDV)            float64\nsodium (PDV)           float64\nprotein (PDV)          float64\nsaturated fat (PDV)    float64\ncarbohydrates (PDV)    float64\ndtype: object"
     },
     "execution_count": 14,
     "metadata": {},
     "output_type": "execute_result"
    }
   ],
   "source": [
    "df.dtypes"
   ],
   "metadata": {
    "collapsed": false
   }
  },
  {
   "cell_type": "code",
   "execution_count": 16,
   "outputs": [
    {
     "data": {
      "text/plain": "                                         name      id  minutes   \n0  arriba   baked winter squash mexican style  137739       55  \\\n1            a bit different  breakfast pizza   31490       30   \n2                   all in the kitchen  chili  112140      130   \n3                          alouette  potatoes   59389       45   \n4          amish  tomato ketchup  for canning   44061      190   \n\n   contributor_id   submitted   \n0           47892  2005-09-16  \\\n1           26278  2002-06-17   \n2          196586  2005-02-25   \n3           68585  2003-04-14   \n4           41706  2002-10-25   \n\n                                                tags   \n0  ['60-minutes-or-less', 'time-to-make', 'course...  \\\n1  ['30-minutes-or-less', 'time-to-make', 'course...   \n2  ['time-to-make', 'course', 'preparation', 'mai...   \n3  ['60-minutes-or-less', 'time-to-make', 'course...   \n4  ['weeknight', 'time-to-make', 'course', 'main-...   \n\n                                    nutrition  n_steps   \n0       [51.5, 0.0, 13.0, 0.0, 2.0, 0.0, 4.0]       11  \\\n1   [173.4, 18.0, 0.0, 17.0, 22.0, 35.0, 1.0]        9   \n2  [269.8, 22.0, 32.0, 48.0, 39.0, 27.0, 5.0]        6   \n3   [368.1, 17.0, 10.0, 2.0, 14.0, 8.0, 20.0]       11   \n4   [352.9, 1.0, 337.0, 23.0, 3.0, 0.0, 28.0]        5   \n\n                                               steps   \n0  ['make a choice and proceed with recipe', 'dep...  \\\n1  ['preheat oven to 425 degrees f', 'press dough...   \n2  ['brown ground beef in large pot', 'add choppe...   \n3  ['place potatoes in a large pot of lightly sal...   \n4  ['mix all ingredients& boil for 2 1 / 2 hours ...   \n\n                                         description   \n0  autumn is my favorite time of year to cook! th...  \\\n1  this recipe calls for the crust to be prebaked...   \n2  this modified version of 'mom's' chili was a h...   \n3  this is a super easy, great tasting, make ahea...   \n4  my dh's amish mother raised him on this recipe...   \n\n                                         ingredients  n_ingredients  calories   \n0  ['winter squash', 'mexican seasoning', 'mixed ...              7      51.5  \\\n1  ['prepared pizza crust', 'sausage patty', 'egg...              6     173.4   \n2  ['ground beef', 'yellow onions', 'diced tomato...             13     269.8   \n3  ['spreadable cheese with garlic and herbs', 'n...             11     368.1   \n4  ['tomato juice', 'apple cider vinegar', 'sugar...              8     352.9   \n\n   total fat (PDV)  sugar (PDV)  sodium (PDV)  protein (PDV)   \n0              0.0         13.0           0.0            2.0  \\\n1             18.0          0.0          17.0           22.0   \n2             22.0         32.0          48.0           39.0   \n3             17.0         10.0           2.0           14.0   \n4              1.0        337.0          23.0            3.0   \n\n   saturated fat (PDV)  carbohydrates (PDV)  \n0                  0.0                  4.0  \n1                 35.0                  1.0  \n2                 27.0                  5.0  \n3                  8.0                 20.0  \n4                  0.0                 28.0  ",
      "text/html": "<div>\n<style scoped>\n    .dataframe tbody tr th:only-of-type {\n        vertical-align: middle;\n    }\n\n    .dataframe tbody tr th {\n        vertical-align: top;\n    }\n\n    .dataframe thead th {\n        text-align: right;\n    }\n</style>\n<table border=\"1\" class=\"dataframe\">\n  <thead>\n    <tr style=\"text-align: right;\">\n      <th></th>\n      <th>name</th>\n      <th>id</th>\n      <th>minutes</th>\n      <th>contributor_id</th>\n      <th>submitted</th>\n      <th>tags</th>\n      <th>nutrition</th>\n      <th>n_steps</th>\n      <th>steps</th>\n      <th>description</th>\n      <th>ingredients</th>\n      <th>n_ingredients</th>\n      <th>calories</th>\n      <th>total fat (PDV)</th>\n      <th>sugar (PDV)</th>\n      <th>sodium (PDV)</th>\n      <th>protein (PDV)</th>\n      <th>saturated fat (PDV)</th>\n      <th>carbohydrates (PDV)</th>\n    </tr>\n  </thead>\n  <tbody>\n    <tr>\n      <th>0</th>\n      <td>arriba   baked winter squash mexican style</td>\n      <td>137739</td>\n      <td>55</td>\n      <td>47892</td>\n      <td>2005-09-16</td>\n      <td>['60-minutes-or-less', 'time-to-make', 'course...</td>\n      <td>[51.5, 0.0, 13.0, 0.0, 2.0, 0.0, 4.0]</td>\n      <td>11</td>\n      <td>['make a choice and proceed with recipe', 'dep...</td>\n      <td>autumn is my favorite time of year to cook! th...</td>\n      <td>['winter squash', 'mexican seasoning', 'mixed ...</td>\n      <td>7</td>\n      <td>51.5</td>\n      <td>0.0</td>\n      <td>13.0</td>\n      <td>0.0</td>\n      <td>2.0</td>\n      <td>0.0</td>\n      <td>4.0</td>\n    </tr>\n    <tr>\n      <th>1</th>\n      <td>a bit different  breakfast pizza</td>\n      <td>31490</td>\n      <td>30</td>\n      <td>26278</td>\n      <td>2002-06-17</td>\n      <td>['30-minutes-or-less', 'time-to-make', 'course...</td>\n      <td>[173.4, 18.0, 0.0, 17.0, 22.0, 35.0, 1.0]</td>\n      <td>9</td>\n      <td>['preheat oven to 425 degrees f', 'press dough...</td>\n      <td>this recipe calls for the crust to be prebaked...</td>\n      <td>['prepared pizza crust', 'sausage patty', 'egg...</td>\n      <td>6</td>\n      <td>173.4</td>\n      <td>18.0</td>\n      <td>0.0</td>\n      <td>17.0</td>\n      <td>22.0</td>\n      <td>35.0</td>\n      <td>1.0</td>\n    </tr>\n    <tr>\n      <th>2</th>\n      <td>all in the kitchen  chili</td>\n      <td>112140</td>\n      <td>130</td>\n      <td>196586</td>\n      <td>2005-02-25</td>\n      <td>['time-to-make', 'course', 'preparation', 'mai...</td>\n      <td>[269.8, 22.0, 32.0, 48.0, 39.0, 27.0, 5.0]</td>\n      <td>6</td>\n      <td>['brown ground beef in large pot', 'add choppe...</td>\n      <td>this modified version of 'mom's' chili was a h...</td>\n      <td>['ground beef', 'yellow onions', 'diced tomato...</td>\n      <td>13</td>\n      <td>269.8</td>\n      <td>22.0</td>\n      <td>32.0</td>\n      <td>48.0</td>\n      <td>39.0</td>\n      <td>27.0</td>\n      <td>5.0</td>\n    </tr>\n    <tr>\n      <th>3</th>\n      <td>alouette  potatoes</td>\n      <td>59389</td>\n      <td>45</td>\n      <td>68585</td>\n      <td>2003-04-14</td>\n      <td>['60-minutes-or-less', 'time-to-make', 'course...</td>\n      <td>[368.1, 17.0, 10.0, 2.0, 14.0, 8.0, 20.0]</td>\n      <td>11</td>\n      <td>['place potatoes in a large pot of lightly sal...</td>\n      <td>this is a super easy, great tasting, make ahea...</td>\n      <td>['spreadable cheese with garlic and herbs', 'n...</td>\n      <td>11</td>\n      <td>368.1</td>\n      <td>17.0</td>\n      <td>10.0</td>\n      <td>2.0</td>\n      <td>14.0</td>\n      <td>8.0</td>\n      <td>20.0</td>\n    </tr>\n    <tr>\n      <th>4</th>\n      <td>amish  tomato ketchup  for canning</td>\n      <td>44061</td>\n      <td>190</td>\n      <td>41706</td>\n      <td>2002-10-25</td>\n      <td>['weeknight', 'time-to-make', 'course', 'main-...</td>\n      <td>[352.9, 1.0, 337.0, 23.0, 3.0, 0.0, 28.0]</td>\n      <td>5</td>\n      <td>['mix all ingredients&amp; boil for 2 1 / 2 hours ...</td>\n      <td>my dh's amish mother raised him on this recipe...</td>\n      <td>['tomato juice', 'apple cider vinegar', 'sugar...</td>\n      <td>8</td>\n      <td>352.9</td>\n      <td>1.0</td>\n      <td>337.0</td>\n      <td>23.0</td>\n      <td>3.0</td>\n      <td>0.0</td>\n      <td>28.0</td>\n    </tr>\n  </tbody>\n</table>\n</div>"
     },
     "execution_count": 16,
     "metadata": {},
     "output_type": "execute_result"
    }
   ],
   "source": [
    "df.head()"
   ],
   "metadata": {
    "collapsed": false
   }
  },
  {
   "cell_type": "markdown",
   "source": [
    "Columns / cells that are not relevant to our research purpose are dropped."
   ],
   "metadata": {
    "collapsed": false
   }
  },
  {
   "cell_type": "code",
   "execution_count": 17,
   "outputs": [
    {
     "data": {
      "text/plain": "                                         name  minutes  n_steps   \n0  arriba   baked winter squash mexican style       55       11  \\\n1            a bit different  breakfast pizza       30        9   \n2                   all in the kitchen  chili      130        6   \n3                          alouette  potatoes       45       11   \n4          amish  tomato ketchup  for canning      190        5   \n\n                                               steps   \n0  ['make a choice and proceed with recipe', 'dep...  \\\n1  ['preheat oven to 425 degrees f', 'press dough...   \n2  ['brown ground beef in large pot', 'add choppe...   \n3  ['place potatoes in a large pot of lightly sal...   \n4  ['mix all ingredients& boil for 2 1 / 2 hours ...   \n\n                                         description   \n0  autumn is my favorite time of year to cook! th...  \\\n1  this recipe calls for the crust to be prebaked...   \n2  this modified version of 'mom's' chili was a h...   \n3  this is a super easy, great tasting, make ahea...   \n4  my dh's amish mother raised him on this recipe...   \n\n                                         ingredients  n_ingredients  calories   \n0  ['winter squash', 'mexican seasoning', 'mixed ...              7      51.5  \\\n1  ['prepared pizza crust', 'sausage patty', 'egg...              6     173.4   \n2  ['ground beef', 'yellow onions', 'diced tomato...             13     269.8   \n3  ['spreadable cheese with garlic and herbs', 'n...             11     368.1   \n4  ['tomato juice', 'apple cider vinegar', 'sugar...              8     352.9   \n\n   total fat (PDV)  sugar (PDV)  sodium (PDV)  protein (PDV)   \n0              0.0         13.0           0.0            2.0  \\\n1             18.0          0.0          17.0           22.0   \n2             22.0         32.0          48.0           39.0   \n3             17.0         10.0           2.0           14.0   \n4              1.0        337.0          23.0            3.0   \n\n   saturated fat (PDV)  carbohydrates (PDV)  \n0                  0.0                  4.0  \n1                 35.0                  1.0  \n2                 27.0                  5.0  \n3                  8.0                 20.0  \n4                  0.0                 28.0  ",
      "text/html": "<div>\n<style scoped>\n    .dataframe tbody tr th:only-of-type {\n        vertical-align: middle;\n    }\n\n    .dataframe tbody tr th {\n        vertical-align: top;\n    }\n\n    .dataframe thead th {\n        text-align: right;\n    }\n</style>\n<table border=\"1\" class=\"dataframe\">\n  <thead>\n    <tr style=\"text-align: right;\">\n      <th></th>\n      <th>name</th>\n      <th>minutes</th>\n      <th>n_steps</th>\n      <th>steps</th>\n      <th>description</th>\n      <th>ingredients</th>\n      <th>n_ingredients</th>\n      <th>calories</th>\n      <th>total fat (PDV)</th>\n      <th>sugar (PDV)</th>\n      <th>sodium (PDV)</th>\n      <th>protein (PDV)</th>\n      <th>saturated fat (PDV)</th>\n      <th>carbohydrates (PDV)</th>\n    </tr>\n  </thead>\n  <tbody>\n    <tr>\n      <th>0</th>\n      <td>arriba   baked winter squash mexican style</td>\n      <td>55</td>\n      <td>11</td>\n      <td>['make a choice and proceed with recipe', 'dep...</td>\n      <td>autumn is my favorite time of year to cook! th...</td>\n      <td>['winter squash', 'mexican seasoning', 'mixed ...</td>\n      <td>7</td>\n      <td>51.5</td>\n      <td>0.0</td>\n      <td>13.0</td>\n      <td>0.0</td>\n      <td>2.0</td>\n      <td>0.0</td>\n      <td>4.0</td>\n    </tr>\n    <tr>\n      <th>1</th>\n      <td>a bit different  breakfast pizza</td>\n      <td>30</td>\n      <td>9</td>\n      <td>['preheat oven to 425 degrees f', 'press dough...</td>\n      <td>this recipe calls for the crust to be prebaked...</td>\n      <td>['prepared pizza crust', 'sausage patty', 'egg...</td>\n      <td>6</td>\n      <td>173.4</td>\n      <td>18.0</td>\n      <td>0.0</td>\n      <td>17.0</td>\n      <td>22.0</td>\n      <td>35.0</td>\n      <td>1.0</td>\n    </tr>\n    <tr>\n      <th>2</th>\n      <td>all in the kitchen  chili</td>\n      <td>130</td>\n      <td>6</td>\n      <td>['brown ground beef in large pot', 'add choppe...</td>\n      <td>this modified version of 'mom's' chili was a h...</td>\n      <td>['ground beef', 'yellow onions', 'diced tomato...</td>\n      <td>13</td>\n      <td>269.8</td>\n      <td>22.0</td>\n      <td>32.0</td>\n      <td>48.0</td>\n      <td>39.0</td>\n      <td>27.0</td>\n      <td>5.0</td>\n    </tr>\n    <tr>\n      <th>3</th>\n      <td>alouette  potatoes</td>\n      <td>45</td>\n      <td>11</td>\n      <td>['place potatoes in a large pot of lightly sal...</td>\n      <td>this is a super easy, great tasting, make ahea...</td>\n      <td>['spreadable cheese with garlic and herbs', 'n...</td>\n      <td>11</td>\n      <td>368.1</td>\n      <td>17.0</td>\n      <td>10.0</td>\n      <td>2.0</td>\n      <td>14.0</td>\n      <td>8.0</td>\n      <td>20.0</td>\n    </tr>\n    <tr>\n      <th>4</th>\n      <td>amish  tomato ketchup  for canning</td>\n      <td>190</td>\n      <td>5</td>\n      <td>['mix all ingredients&amp; boil for 2 1 / 2 hours ...</td>\n      <td>my dh's amish mother raised him on this recipe...</td>\n      <td>['tomato juice', 'apple cider vinegar', 'sugar...</td>\n      <td>8</td>\n      <td>352.9</td>\n      <td>1.0</td>\n      <td>337.0</td>\n      <td>23.0</td>\n      <td>3.0</td>\n      <td>0.0</td>\n      <td>28.0</td>\n    </tr>\n  </tbody>\n</table>\n</div>"
     },
     "execution_count": 17,
     "metadata": {},
     "output_type": "execute_result"
    }
   ],
   "source": [
    "df.drop(['id', 'contributor_id','submitted','tags','nutrition'], axis=1,inplace = True)\n",
    "df.head()"
   ],
   "metadata": {
    "collapsed": false
   }
  },
  {
   "cell_type": "markdown",
   "source": [
    "We add another column \"food types\" to categorize the recipes and assign one of the string values: \"Veg\", \"Non Veg\", \"Healthy\", \"Veg dessert\", \"Non Veg dessert\" based on the ingredient composition."
   ],
   "metadata": {
    "collapsed": false
   }
  },
  {
   "cell_type": "code",
   "execution_count": 19,
   "outputs": [
    {
     "data": {
      "text/plain": "                                         name  minutes  n_steps   \n0  arriba   baked winter squash mexican style       55       11  \\\n1            a bit different  breakfast pizza       30        9   \n2                   all in the kitchen  chili      130        6   \n3                          alouette  potatoes       45       11   \n4          amish  tomato ketchup  for canning      190        5   \n\n                                               steps   \n0  ['make a choice and proceed with recipe', 'dep...  \\\n1  ['preheat oven to 425 degrees f', 'press dough...   \n2  ['brown ground beef in large pot', 'add choppe...   \n3  ['place potatoes in a large pot of lightly sal...   \n4  ['mix all ingredients& boil for 2 1 / 2 hours ...   \n\n                                         description   \n0  autumn is my favorite time of year to cook! th...  \\\n1  this recipe calls for the crust to be prebaked...   \n2  this modified version of 'mom's' chili was a h...   \n3  this is a super easy, great tasting, make ahea...   \n4  my dh's amish mother raised him on this recipe...   \n\n                                         ingredients  n_ingredients  calories   \n0  ['winter squash', 'mexican seasoning', 'mixed ...              7      51.5  \\\n1  ['prepared pizza crust', 'sausage patty', 'egg...              6     173.4   \n2  ['ground beef', 'yellow onions', 'diced tomato...             13     269.8   \n3  ['spreadable cheese with garlic and herbs', 'n...             11     368.1   \n4  ['tomato juice', 'apple cider vinegar', 'sugar...              8     352.9   \n\n   total fat (PDV)  sugar (PDV)  sodium (PDV)  protein (PDV)   \n0              0.0         13.0           0.0            2.0  \\\n1             18.0          0.0          17.0           22.0   \n2             22.0         32.0          48.0           39.0   \n3             17.0         10.0           2.0           14.0   \n4              1.0        337.0          23.0            3.0   \n\n   saturated fat (PDV)  carbohydrates (PDV) food types  \n0                  0.0                  4.0        nan  \n1                 35.0                  1.0        nan  \n2                 27.0                  5.0        nan  \n3                  8.0                 20.0        nan  \n4                  0.0                 28.0        nan  ",
      "text/html": "<div>\n<style scoped>\n    .dataframe tbody tr th:only-of-type {\n        vertical-align: middle;\n    }\n\n    .dataframe tbody tr th {\n        vertical-align: top;\n    }\n\n    .dataframe thead th {\n        text-align: right;\n    }\n</style>\n<table border=\"1\" class=\"dataframe\">\n  <thead>\n    <tr style=\"text-align: right;\">\n      <th></th>\n      <th>name</th>\n      <th>minutes</th>\n      <th>n_steps</th>\n      <th>steps</th>\n      <th>description</th>\n      <th>ingredients</th>\n      <th>n_ingredients</th>\n      <th>calories</th>\n      <th>total fat (PDV)</th>\n      <th>sugar (PDV)</th>\n      <th>sodium (PDV)</th>\n      <th>protein (PDV)</th>\n      <th>saturated fat (PDV)</th>\n      <th>carbohydrates (PDV)</th>\n      <th>food types</th>\n    </tr>\n  </thead>\n  <tbody>\n    <tr>\n      <th>0</th>\n      <td>arriba   baked winter squash mexican style</td>\n      <td>55</td>\n      <td>11</td>\n      <td>['make a choice and proceed with recipe', 'dep...</td>\n      <td>autumn is my favorite time of year to cook! th...</td>\n      <td>['winter squash', 'mexican seasoning', 'mixed ...</td>\n      <td>7</td>\n      <td>51.5</td>\n      <td>0.0</td>\n      <td>13.0</td>\n      <td>0.0</td>\n      <td>2.0</td>\n      <td>0.0</td>\n      <td>4.0</td>\n      <td>nan</td>\n    </tr>\n    <tr>\n      <th>1</th>\n      <td>a bit different  breakfast pizza</td>\n      <td>30</td>\n      <td>9</td>\n      <td>['preheat oven to 425 degrees f', 'press dough...</td>\n      <td>this recipe calls for the crust to be prebaked...</td>\n      <td>['prepared pizza crust', 'sausage patty', 'egg...</td>\n      <td>6</td>\n      <td>173.4</td>\n      <td>18.0</td>\n      <td>0.0</td>\n      <td>17.0</td>\n      <td>22.0</td>\n      <td>35.0</td>\n      <td>1.0</td>\n      <td>nan</td>\n    </tr>\n    <tr>\n      <th>2</th>\n      <td>all in the kitchen  chili</td>\n      <td>130</td>\n      <td>6</td>\n      <td>['brown ground beef in large pot', 'add choppe...</td>\n      <td>this modified version of 'mom's' chili was a h...</td>\n      <td>['ground beef', 'yellow onions', 'diced tomato...</td>\n      <td>13</td>\n      <td>269.8</td>\n      <td>22.0</td>\n      <td>32.0</td>\n      <td>48.0</td>\n      <td>39.0</td>\n      <td>27.0</td>\n      <td>5.0</td>\n      <td>nan</td>\n    </tr>\n    <tr>\n      <th>3</th>\n      <td>alouette  potatoes</td>\n      <td>45</td>\n      <td>11</td>\n      <td>['place potatoes in a large pot of lightly sal...</td>\n      <td>this is a super easy, great tasting, make ahea...</td>\n      <td>['spreadable cheese with garlic and herbs', 'n...</td>\n      <td>11</td>\n      <td>368.1</td>\n      <td>17.0</td>\n      <td>10.0</td>\n      <td>2.0</td>\n      <td>14.0</td>\n      <td>8.0</td>\n      <td>20.0</td>\n      <td>nan</td>\n    </tr>\n    <tr>\n      <th>4</th>\n      <td>amish  tomato ketchup  for canning</td>\n      <td>190</td>\n      <td>5</td>\n      <td>['mix all ingredients&amp; boil for 2 1 / 2 hours ...</td>\n      <td>my dh's amish mother raised him on this recipe...</td>\n      <td>['tomato juice', 'apple cider vinegar', 'sugar...</td>\n      <td>8</td>\n      <td>352.9</td>\n      <td>1.0</td>\n      <td>337.0</td>\n      <td>23.0</td>\n      <td>3.0</td>\n      <td>0.0</td>\n      <td>28.0</td>\n      <td>nan</td>\n    </tr>\n  </tbody>\n</table>\n</div>"
     },
     "execution_count": 19,
     "metadata": {},
     "output_type": "execute_result"
    }
   ],
   "source": [
    "df['food types'] = np.nan\n",
    "df['food types'] = df['food types'].astype('str')\n",
    "df.head()"
   ],
   "metadata": {
    "collapsed": false
   }
  },
  {
   "cell_type": "code",
   "execution_count": 35,
   "outputs": [],
   "source": [
    "df.loc[~df['ingredients'].str.contains('eggs'), 'food types'] = df['ingredients'].str.contains('ice-cream|chocolate|cookies').map({True: 'Veg dessert'})\n",
    "\n",
    "df.loc[(df['food types'] != 'Veg dessert') & (20 < df['calories']) & (df['calories'] < 300), 'food types'] = 'Healthy'\n",
    "\n",
    "df.loc[(df['food types'] != 'Veg dessert') & ~df['food types'].isin(['Non-Veg dessert', 'Healthy']), 'food types'] = df['ingredients'].str.contains('chicken|eggs|ham|pepperoni').map({True: 'Non-veg'})\n",
    "\n",
    "df.loc[(df['food types'] != 'Veg dessert') & (df['food types'] != 'Non-Veg dessert') & (df['food types'] != 'Healthy') & (df['food types'] != 'Non-veg'), 'food types'] = 'Veg'\n",
    "\n",
    "df.head()"
   ],
   "metadata": {
    "collapsed": false
   }
  },
  {
   "cell_type": "markdown",
   "source": [
    "We can see how the food type assignment turned out below by counting the number of entries with each food type value"
   ],
   "metadata": {
    "collapsed": false
   }
  },
  {
   "cell_type": "code",
   "execution_count": 37,
   "outputs": [
    {
     "data": {
      "text/plain": "food types\nHealthy            102744\nVeg                 70416\nNon-veg             45948\nVeg dessert          9532\nNon-Veg dessert      2997\nName: count, dtype: int64"
     },
     "execution_count": 37,
     "metadata": {},
     "output_type": "execute_result"
    }
   ],
   "source": [
    "df['food types'].value_counts()"
   ],
   "metadata": {
    "collapsed": false
   }
  },
  {
   "cell_type": "markdown",
   "source": [
    "We also verify that none of the present rows has a null value its food type column"
   ],
   "metadata": {
    "collapsed": false
   }
  },
  {
   "cell_type": "code",
   "execution_count": 38,
   "outputs": [
    {
     "data": {
      "text/plain": "0"
     },
     "execution_count": 38,
     "metadata": {},
     "output_type": "execute_result"
    }
   ],
   "source": [
    "df['food types'].isnull().sum()"
   ],
   "metadata": {
    "collapsed": false
   }
  },
  {
   "cell_type": "markdown",
   "source": [
    "From the values present in the food type column, we add more columns corresponding to the food types and the values assigned correspond to whether the assignment is true or false (1 or 0)\n",
    "\n",
    "First we generate the dataframe containing the columns to be added from the food types column of our dataframe"
   ],
   "metadata": {
    "collapsed": false
   }
  },
  {
   "cell_type": "code",
   "execution_count": 40,
   "outputs": [
    {
     "data": {
      "text/plain": "        Healthy  Non-Veg dessert  Non-veg    Veg  Veg dessert\n0          True            False    False  False        False\n1          True            False    False  False        False\n2          True            False    False  False        False\n3         False            False    False   True        False\n4         False            False    False   True        False\n...         ...              ...      ...    ...          ...\n231632    False            False     True  False        False\n231633    False            False    False   True        False\n231634     True            False    False  False        False\n231635     True            False    False  False        False\n231636     True            False    False  False        False\n\n[231637 rows x 5 columns]",
      "text/html": "<div>\n<style scoped>\n    .dataframe tbody tr th:only-of-type {\n        vertical-align: middle;\n    }\n\n    .dataframe tbody tr th {\n        vertical-align: top;\n    }\n\n    .dataframe thead th {\n        text-align: right;\n    }\n</style>\n<table border=\"1\" class=\"dataframe\">\n  <thead>\n    <tr style=\"text-align: right;\">\n      <th></th>\n      <th>Healthy</th>\n      <th>Non-Veg dessert</th>\n      <th>Non-veg</th>\n      <th>Veg</th>\n      <th>Veg dessert</th>\n    </tr>\n  </thead>\n  <tbody>\n    <tr>\n      <th>0</th>\n      <td>True</td>\n      <td>False</td>\n      <td>False</td>\n      <td>False</td>\n      <td>False</td>\n    </tr>\n    <tr>\n      <th>1</th>\n      <td>True</td>\n      <td>False</td>\n      <td>False</td>\n      <td>False</td>\n      <td>False</td>\n    </tr>\n    <tr>\n      <th>2</th>\n      <td>True</td>\n      <td>False</td>\n      <td>False</td>\n      <td>False</td>\n      <td>False</td>\n    </tr>\n    <tr>\n      <th>3</th>\n      <td>False</td>\n      <td>False</td>\n      <td>False</td>\n      <td>True</td>\n      <td>False</td>\n    </tr>\n    <tr>\n      <th>4</th>\n      <td>False</td>\n      <td>False</td>\n      <td>False</td>\n      <td>True</td>\n      <td>False</td>\n    </tr>\n    <tr>\n      <th>...</th>\n      <td>...</td>\n      <td>...</td>\n      <td>...</td>\n      <td>...</td>\n      <td>...</td>\n    </tr>\n    <tr>\n      <th>231632</th>\n      <td>False</td>\n      <td>False</td>\n      <td>True</td>\n      <td>False</td>\n      <td>False</td>\n    </tr>\n    <tr>\n      <th>231633</th>\n      <td>False</td>\n      <td>False</td>\n      <td>False</td>\n      <td>True</td>\n      <td>False</td>\n    </tr>\n    <tr>\n      <th>231634</th>\n      <td>True</td>\n      <td>False</td>\n      <td>False</td>\n      <td>False</td>\n      <td>False</td>\n    </tr>\n    <tr>\n      <th>231635</th>\n      <td>True</td>\n      <td>False</td>\n      <td>False</td>\n      <td>False</td>\n      <td>False</td>\n    </tr>\n    <tr>\n      <th>231636</th>\n      <td>True</td>\n      <td>False</td>\n      <td>False</td>\n      <td>False</td>\n      <td>False</td>\n    </tr>\n  </tbody>\n</table>\n<p>231637 rows × 5 columns</p>\n</div>"
     },
     "execution_count": 40,
     "metadata": {},
     "output_type": "execute_result"
    }
   ],
   "source": [
    "types_columns = pd.get_dummies(df[\"food types\"])\n",
    "types_columns"
   ],
   "metadata": {
    "collapsed": false
   }
  },
  {
   "cell_type": "markdown",
   "source": [
    "Next we join (concatenate) our original dataframe with the new dataframe generated which contains the columns we want to add."
   ],
   "metadata": {
    "collapsed": false
   }
  },
  {
   "cell_type": "code",
   "execution_count": 42,
   "outputs": [
    {
     "data": {
      "text/plain": "                                                name  minutes  n_steps   \n0         arriba   baked winter squash mexican style       55       11  \\\n1                   a bit different  breakfast pizza       30        9   \n2                          all in the kitchen  chili      130        6   \n3                                 alouette  potatoes       45       11   \n4                 amish  tomato ketchup  for canning      190        5   \n...                                              ...      ...      ...   \n231632                                   zydeco soup       60        7   \n231633                              zydeco spice mix        5        1   \n231634                     zydeco ya ya deviled eggs       40        7   \n231635        cookies by design   cookies on a stick       29        9   \n231636  cookies by design   sugar shortbread cookies       20        5   \n\n                                                    steps   \n0       ['make a choice and proceed with recipe', 'dep...  \\\n1       ['preheat oven to 425 degrees f', 'press dough...   \n2       ['brown ground beef in large pot', 'add choppe...   \n3       ['place potatoes in a large pot of lightly sal...   \n4       ['mix all ingredients& boil for 2 1 / 2 hours ...   \n...                                                   ...   \n231632  ['heat oil in a 4-quart dutch oven', 'add cele...   \n231633        ['mix all ingredients together thoroughly']   \n231634  ['in a bowl , combine the mashed yolks and may...   \n231635  ['place melted butter in a large mixing bowl a...   \n231636  ['whip sugar and shortening in a large bowl , ...   \n\n                                              description   \n0       autumn is my favorite time of year to cook! th...  \\\n1       this recipe calls for the crust to be prebaked...   \n2       this modified version of 'mom's' chili was a h...   \n3       this is a super easy, great tasting, make ahea...   \n4       my dh's amish mother raised him on this recipe...   \n...                                                   ...   \n231632  this is a delicious soup that i originally fou...   \n231633    this spice mix will make your taste buds dance!   \n231634                          deviled eggs, cajun-style   \n231635  i've heard of the 'cookies by design' company,...   \n231636  i've heard of the 'cookies by design' company,...   \n\n                                              ingredients  n_ingredients   \n0       ['winter squash', 'mexican seasoning', 'mixed ...              7  \\\n1       ['prepared pizza crust', 'sausage patty', 'egg...              6   \n2       ['ground beef', 'yellow onions', 'diced tomato...             13   \n3       ['spreadable cheese with garlic and herbs', 'n...             11   \n4       ['tomato juice', 'apple cider vinegar', 'sugar...              8   \n...                                                   ...            ...   \n231632  ['celery', 'onion', 'green sweet pepper', 'gar...             22   \n231633  ['paprika', 'salt', 'garlic powder', 'onion po...             13   \n231634  ['hard-cooked eggs', 'mayonnaise', 'dijon must...              8   \n231635  ['butter', 'eagle brand condensed milk', 'ligh...             10   \n231636  ['granulated sugar', 'shortening', 'eggs', 'fl...              7   \n\n        calories  total fat (PDV)  sugar (PDV)  sodium (PDV)  protein (PDV)   \n0           51.5              0.0         13.0           0.0            2.0  \\\n1          173.4             18.0          0.0          17.0           22.0   \n2          269.8             22.0         32.0          48.0           39.0   \n3          368.1             17.0         10.0           2.0           14.0   \n4          352.9              1.0        337.0          23.0            3.0   \n...          ...              ...          ...           ...            ...   \n231632     415.2             26.0         34.0          26.0           44.0   \n231633      14.8              0.0          2.0          58.0            1.0   \n231634      59.2              6.0          2.0           3.0            6.0   \n231635     188.0             11.0         57.0          11.0            7.0   \n231636     174.9             14.0         33.0           4.0            4.0   \n\n        saturated fat (PDV)  carbohydrates (PDV) food types  Healthy   \n0                       0.0                  4.0    Healthy     True  \\\n1                      35.0                  1.0    Healthy     True   \n2                      27.0                  5.0    Healthy     True   \n3                       8.0                 20.0        Veg    False   \n4                       0.0                 28.0        Veg    False   \n...                     ...                  ...        ...      ...   \n231632                 21.0                 15.0    Non-veg    False   \n231633                  0.0                  1.0        Veg    False   \n231634                  5.0                  0.0    Healthy     True   \n231635                 21.0                  9.0    Healthy     True   \n231636                 11.0                  6.0    Healthy     True   \n\n        Non-Veg dessert  Non-veg    Veg  Veg dessert  \n0                 False    False  False        False  \n1                 False    False  False        False  \n2                 False    False  False        False  \n3                 False    False   True        False  \n4                 False    False   True        False  \n...                 ...      ...    ...          ...  \n231632            False     True  False        False  \n231633            False    False   True        False  \n231634            False    False  False        False  \n231635            False    False  False        False  \n231636            False    False  False        False  \n\n[231637 rows x 20 columns]",
      "text/html": "<div>\n<style scoped>\n    .dataframe tbody tr th:only-of-type {\n        vertical-align: middle;\n    }\n\n    .dataframe tbody tr th {\n        vertical-align: top;\n    }\n\n    .dataframe thead th {\n        text-align: right;\n    }\n</style>\n<table border=\"1\" class=\"dataframe\">\n  <thead>\n    <tr style=\"text-align: right;\">\n      <th></th>\n      <th>name</th>\n      <th>minutes</th>\n      <th>n_steps</th>\n      <th>steps</th>\n      <th>description</th>\n      <th>ingredients</th>\n      <th>n_ingredients</th>\n      <th>calories</th>\n      <th>total fat (PDV)</th>\n      <th>sugar (PDV)</th>\n      <th>sodium (PDV)</th>\n      <th>protein (PDV)</th>\n      <th>saturated fat (PDV)</th>\n      <th>carbohydrates (PDV)</th>\n      <th>food types</th>\n      <th>Healthy</th>\n      <th>Non-Veg dessert</th>\n      <th>Non-veg</th>\n      <th>Veg</th>\n      <th>Veg dessert</th>\n    </tr>\n  </thead>\n  <tbody>\n    <tr>\n      <th>0</th>\n      <td>arriba   baked winter squash mexican style</td>\n      <td>55</td>\n      <td>11</td>\n      <td>['make a choice and proceed with recipe', 'dep...</td>\n      <td>autumn is my favorite time of year to cook! th...</td>\n      <td>['winter squash', 'mexican seasoning', 'mixed ...</td>\n      <td>7</td>\n      <td>51.5</td>\n      <td>0.0</td>\n      <td>13.0</td>\n      <td>0.0</td>\n      <td>2.0</td>\n      <td>0.0</td>\n      <td>4.0</td>\n      <td>Healthy</td>\n      <td>True</td>\n      <td>False</td>\n      <td>False</td>\n      <td>False</td>\n      <td>False</td>\n    </tr>\n    <tr>\n      <th>1</th>\n      <td>a bit different  breakfast pizza</td>\n      <td>30</td>\n      <td>9</td>\n      <td>['preheat oven to 425 degrees f', 'press dough...</td>\n      <td>this recipe calls for the crust to be prebaked...</td>\n      <td>['prepared pizza crust', 'sausage patty', 'egg...</td>\n      <td>6</td>\n      <td>173.4</td>\n      <td>18.0</td>\n      <td>0.0</td>\n      <td>17.0</td>\n      <td>22.0</td>\n      <td>35.0</td>\n      <td>1.0</td>\n      <td>Healthy</td>\n      <td>True</td>\n      <td>False</td>\n      <td>False</td>\n      <td>False</td>\n      <td>False</td>\n    </tr>\n    <tr>\n      <th>2</th>\n      <td>all in the kitchen  chili</td>\n      <td>130</td>\n      <td>6</td>\n      <td>['brown ground beef in large pot', 'add choppe...</td>\n      <td>this modified version of 'mom's' chili was a h...</td>\n      <td>['ground beef', 'yellow onions', 'diced tomato...</td>\n      <td>13</td>\n      <td>269.8</td>\n      <td>22.0</td>\n      <td>32.0</td>\n      <td>48.0</td>\n      <td>39.0</td>\n      <td>27.0</td>\n      <td>5.0</td>\n      <td>Healthy</td>\n      <td>True</td>\n      <td>False</td>\n      <td>False</td>\n      <td>False</td>\n      <td>False</td>\n    </tr>\n    <tr>\n      <th>3</th>\n      <td>alouette  potatoes</td>\n      <td>45</td>\n      <td>11</td>\n      <td>['place potatoes in a large pot of lightly sal...</td>\n      <td>this is a super easy, great tasting, make ahea...</td>\n      <td>['spreadable cheese with garlic and herbs', 'n...</td>\n      <td>11</td>\n      <td>368.1</td>\n      <td>17.0</td>\n      <td>10.0</td>\n      <td>2.0</td>\n      <td>14.0</td>\n      <td>8.0</td>\n      <td>20.0</td>\n      <td>Veg</td>\n      <td>False</td>\n      <td>False</td>\n      <td>False</td>\n      <td>True</td>\n      <td>False</td>\n    </tr>\n    <tr>\n      <th>4</th>\n      <td>amish  tomato ketchup  for canning</td>\n      <td>190</td>\n      <td>5</td>\n      <td>['mix all ingredients&amp; boil for 2 1 / 2 hours ...</td>\n      <td>my dh's amish mother raised him on this recipe...</td>\n      <td>['tomato juice', 'apple cider vinegar', 'sugar...</td>\n      <td>8</td>\n      <td>352.9</td>\n      <td>1.0</td>\n      <td>337.0</td>\n      <td>23.0</td>\n      <td>3.0</td>\n      <td>0.0</td>\n      <td>28.0</td>\n      <td>Veg</td>\n      <td>False</td>\n      <td>False</td>\n      <td>False</td>\n      <td>True</td>\n      <td>False</td>\n    </tr>\n    <tr>\n      <th>...</th>\n      <td>...</td>\n      <td>...</td>\n      <td>...</td>\n      <td>...</td>\n      <td>...</td>\n      <td>...</td>\n      <td>...</td>\n      <td>...</td>\n      <td>...</td>\n      <td>...</td>\n      <td>...</td>\n      <td>...</td>\n      <td>...</td>\n      <td>...</td>\n      <td>...</td>\n      <td>...</td>\n      <td>...</td>\n      <td>...</td>\n      <td>...</td>\n      <td>...</td>\n    </tr>\n    <tr>\n      <th>231632</th>\n      <td>zydeco soup</td>\n      <td>60</td>\n      <td>7</td>\n      <td>['heat oil in a 4-quart dutch oven', 'add cele...</td>\n      <td>this is a delicious soup that i originally fou...</td>\n      <td>['celery', 'onion', 'green sweet pepper', 'gar...</td>\n      <td>22</td>\n      <td>415.2</td>\n      <td>26.0</td>\n      <td>34.0</td>\n      <td>26.0</td>\n      <td>44.0</td>\n      <td>21.0</td>\n      <td>15.0</td>\n      <td>Non-veg</td>\n      <td>False</td>\n      <td>False</td>\n      <td>True</td>\n      <td>False</td>\n      <td>False</td>\n    </tr>\n    <tr>\n      <th>231633</th>\n      <td>zydeco spice mix</td>\n      <td>5</td>\n      <td>1</td>\n      <td>['mix all ingredients together thoroughly']</td>\n      <td>this spice mix will make your taste buds dance!</td>\n      <td>['paprika', 'salt', 'garlic powder', 'onion po...</td>\n      <td>13</td>\n      <td>14.8</td>\n      <td>0.0</td>\n      <td>2.0</td>\n      <td>58.0</td>\n      <td>1.0</td>\n      <td>0.0</td>\n      <td>1.0</td>\n      <td>Veg</td>\n      <td>False</td>\n      <td>False</td>\n      <td>False</td>\n      <td>True</td>\n      <td>False</td>\n    </tr>\n    <tr>\n      <th>231634</th>\n      <td>zydeco ya ya deviled eggs</td>\n      <td>40</td>\n      <td>7</td>\n      <td>['in a bowl , combine the mashed yolks and may...</td>\n      <td>deviled eggs, cajun-style</td>\n      <td>['hard-cooked eggs', 'mayonnaise', 'dijon must...</td>\n      <td>8</td>\n      <td>59.2</td>\n      <td>6.0</td>\n      <td>2.0</td>\n      <td>3.0</td>\n      <td>6.0</td>\n      <td>5.0</td>\n      <td>0.0</td>\n      <td>Healthy</td>\n      <td>True</td>\n      <td>False</td>\n      <td>False</td>\n      <td>False</td>\n      <td>False</td>\n    </tr>\n    <tr>\n      <th>231635</th>\n      <td>cookies by design   cookies on a stick</td>\n      <td>29</td>\n      <td>9</td>\n      <td>['place melted butter in a large mixing bowl a...</td>\n      <td>i've heard of the 'cookies by design' company,...</td>\n      <td>['butter', 'eagle brand condensed milk', 'ligh...</td>\n      <td>10</td>\n      <td>188.0</td>\n      <td>11.0</td>\n      <td>57.0</td>\n      <td>11.0</td>\n      <td>7.0</td>\n      <td>21.0</td>\n      <td>9.0</td>\n      <td>Healthy</td>\n      <td>True</td>\n      <td>False</td>\n      <td>False</td>\n      <td>False</td>\n      <td>False</td>\n    </tr>\n    <tr>\n      <th>231636</th>\n      <td>cookies by design   sugar shortbread cookies</td>\n      <td>20</td>\n      <td>5</td>\n      <td>['whip sugar and shortening in a large bowl , ...</td>\n      <td>i've heard of the 'cookies by design' company,...</td>\n      <td>['granulated sugar', 'shortening', 'eggs', 'fl...</td>\n      <td>7</td>\n      <td>174.9</td>\n      <td>14.0</td>\n      <td>33.0</td>\n      <td>4.0</td>\n      <td>4.0</td>\n      <td>11.0</td>\n      <td>6.0</td>\n      <td>Healthy</td>\n      <td>True</td>\n      <td>False</td>\n      <td>False</td>\n      <td>False</td>\n      <td>False</td>\n    </tr>\n  </tbody>\n</table>\n<p>231637 rows × 20 columns</p>\n</div>"
     },
     "execution_count": 42,
     "metadata": {},
     "output_type": "execute_result"
    }
   ],
   "source": [
    "merged_df = pd.concat([df,types_columns],axis = 1)\n",
    "merged_df"
   ],
   "metadata": {
    "collapsed": false
   }
  },
  {
   "cell_type": "code",
   "execution_count": 43,
   "outputs": [
    {
     "data": {
      "text/plain": "0     arriba   baked winter squash mexican style\n1               a bit different  breakfast pizza\n2                      all in the kitchen  chili\n3                             alouette  potatoes\n4             amish  tomato ketchup  for canning\n                         ...                    \n95            the best  banana bread  or muffins\n96      the best  chocolate chip cheesecake ever\n97                           the elvis  smoothie\n98                           the man s  taco dip\n99                      the woiks  dilly burgers\nName: name, Length: 100, dtype: object"
     },
     "execution_count": 43,
     "metadata": {},
     "output_type": "execute_result"
    }
   ],
   "source": [
    "merged_df['name'].head(100)"
   ],
   "metadata": {
    "collapsed": false
   }
  },
  {
   "cell_type": "markdown",
   "source": [
    "We then flip the dataframe to show the name of each recipe as a column and the rows show the nutritional information for each recipe."
   ],
   "metadata": {
    "collapsed": false
   }
  },
  {
   "cell_type": "code",
   "execution_count": 45,
   "outputs": [
    {
     "data": {
      "text/plain": "name                 0 carb   0 cal gummy worms   \ncarbohydrates (PDV)                         6.0  \\\nsaturated fat (PDV)                         0.0   \nsodium (PDV)                               70.0   \nsugar (PDV)                                 0.0   \ntotal fat (PDV)                             0.0   \n\nname                 0 fat chunky watermelon salsa   \ncarbohydrates (PDV)                            4.0  \\\nsaturated fat (PDV)                            0.0   \nsodium (PDV)                                   0.0   \nsugar (PDV)                                   39.0   \ntotal fat (PDV)                                0.0   \n\nname                 0 point ice cream  only 1 ingredient  0 point soup   ww   \ncarbohydrates (PDV)                                  19.0                1.0  \\\nsaturated fat (PDV)                                   9.0                0.0   \nsodium (PDV)                                          3.0                5.0   \nsugar (PDV)                                         121.0               11.0   \ntotal fat (PDV)                                      13.0                0.0   \n\nname                 0 point soup  crock pot  007  martini  007 cocktail   \ncarbohydrates (PDV)                      2.0           0.0           2.0  \\\nsaturated fat (PDV)                      0.0           0.0           0.0   \nsodium (PDV)                             2.0           0.0           0.0   \nsugar (PDV)                             17.0           0.0          20.0   \ntotal fat (PDV)                          0.0           0.0           0.0   \n\nname                 1  2  3  swiss meringue buttercream   \ncarbohydrates (PDV)                                  8.0  \\\nsaturated fat (PDV)                                109.0   \nsodium (PDV)                                         2.0   \nsugar (PDV)                                        100.0   \ntotal fat (PDV)                                     53.0   \n\nname                 1 00 tangy chicken recipe  1 000 artichoke hearts  ...   \ncarbohydrates (PDV)                        7.0                    19.0  ...  \\\nsaturated fat (PDV)                       86.0                    43.0  ...   \nsodium (PDV)                              83.0                    46.0  ...   \nsugar (PDV)                               55.0                    20.0  ...   \ntotal fat (PDV)                           93.0                    25.0  ...   \n\nname                 zwiebeln salat  swiss onion salad   \ncarbohydrates (PDV)                                3.0  \\\nsaturated fat (PDV)                               24.0   \nsodium (PDV)                                      19.0   \nsugar (PDV)                                       17.0   \ntotal fat (PDV)                                   11.0   \n\nname                 zwiebelsuppe  clear german onion soup   \ncarbohydrates (PDV)                                    7.0  \\\nsaturated fat (PDV)                                   14.0   \nsodium (PDV)                                          44.0   \nsugar (PDV)                                           21.0   \ntotal fat (PDV)                                       17.0   \n\nname                 zwiebelwhe  swiss onion tart  zydeco green beans   \ncarbohydrates (PDV)                           9.0                 7.0  \\\nsaturated fat (PDV)                          90.0                 0.0   \nsodium (PDV)                                 10.0                97.0   \nsugar (PDV)                                  15.0                39.0   \ntotal fat (PDV)                              49.0                 2.0   \n\nname                 zydeco salad  zydeco sauce  zydeco shrimp wrap   \ncarbohydrates (PDV)           1.0           5.0                27.0  \\\nsaturated fat (PDV)           0.0          14.0                 9.0   \nsodium (PDV)                  0.0          22.0                37.0   \nsugar (PDV)                   8.0          19.0                25.0   \ntotal fat (PDV)               0.0          30.0                13.0   \n\nname                 zydeco soup  zydeco spice mix  zydeco ya ya deviled eggs  \ncarbohydrates (PDV)         15.0               1.0                        0.0  \nsaturated fat (PDV)         21.0               0.0                        5.0  \nsodium (PDV)                26.0              58.0                        3.0  \nsugar (PDV)                 34.0               2.0                        2.0  \ntotal fat (PDV)             26.0               0.0                        6.0  \n\n[5 rows x 230185 columns]",
      "text/html": "<div>\n<style scoped>\n    .dataframe tbody tr th:only-of-type {\n        vertical-align: middle;\n    }\n\n    .dataframe tbody tr th {\n        vertical-align: top;\n    }\n\n    .dataframe thead th {\n        text-align: right;\n    }\n</style>\n<table border=\"1\" class=\"dataframe\">\n  <thead>\n    <tr style=\"text-align: right;\">\n      <th>name</th>\n      <th>0 carb   0 cal gummy worms</th>\n      <th>0 fat chunky watermelon salsa</th>\n      <th>0 point ice cream  only 1 ingredient</th>\n      <th>0 point soup   ww</th>\n      <th>0 point soup  crock pot</th>\n      <th>007  martini</th>\n      <th>007 cocktail</th>\n      <th>1  2  3  swiss meringue buttercream</th>\n      <th>1 00 tangy chicken recipe</th>\n      <th>1 000 artichoke hearts</th>\n      <th>...</th>\n      <th>zwiebeln salat  swiss onion salad</th>\n      <th>zwiebelsuppe  clear german onion soup</th>\n      <th>zwiebelwhe  swiss onion tart</th>\n      <th>zydeco green beans</th>\n      <th>zydeco salad</th>\n      <th>zydeco sauce</th>\n      <th>zydeco shrimp wrap</th>\n      <th>zydeco soup</th>\n      <th>zydeco spice mix</th>\n      <th>zydeco ya ya deviled eggs</th>\n    </tr>\n  </thead>\n  <tbody>\n    <tr>\n      <th>carbohydrates (PDV)</th>\n      <td>6.0</td>\n      <td>4.0</td>\n      <td>19.0</td>\n      <td>1.0</td>\n      <td>2.0</td>\n      <td>0.0</td>\n      <td>2.0</td>\n      <td>8.0</td>\n      <td>7.0</td>\n      <td>19.0</td>\n      <td>...</td>\n      <td>3.0</td>\n      <td>7.0</td>\n      <td>9.0</td>\n      <td>7.0</td>\n      <td>1.0</td>\n      <td>5.0</td>\n      <td>27.0</td>\n      <td>15.0</td>\n      <td>1.0</td>\n      <td>0.0</td>\n    </tr>\n    <tr>\n      <th>saturated fat (PDV)</th>\n      <td>0.0</td>\n      <td>0.0</td>\n      <td>9.0</td>\n      <td>0.0</td>\n      <td>0.0</td>\n      <td>0.0</td>\n      <td>0.0</td>\n      <td>109.0</td>\n      <td>86.0</td>\n      <td>43.0</td>\n      <td>...</td>\n      <td>24.0</td>\n      <td>14.0</td>\n      <td>90.0</td>\n      <td>0.0</td>\n      <td>0.0</td>\n      <td>14.0</td>\n      <td>9.0</td>\n      <td>21.0</td>\n      <td>0.0</td>\n      <td>5.0</td>\n    </tr>\n    <tr>\n      <th>sodium (PDV)</th>\n      <td>70.0</td>\n      <td>0.0</td>\n      <td>3.0</td>\n      <td>5.0</td>\n      <td>2.0</td>\n      <td>0.0</td>\n      <td>0.0</td>\n      <td>2.0</td>\n      <td>83.0</td>\n      <td>46.0</td>\n      <td>...</td>\n      <td>19.0</td>\n      <td>44.0</td>\n      <td>10.0</td>\n      <td>97.0</td>\n      <td>0.0</td>\n      <td>22.0</td>\n      <td>37.0</td>\n      <td>26.0</td>\n      <td>58.0</td>\n      <td>3.0</td>\n    </tr>\n    <tr>\n      <th>sugar (PDV)</th>\n      <td>0.0</td>\n      <td>39.0</td>\n      <td>121.0</td>\n      <td>11.0</td>\n      <td>17.0</td>\n      <td>0.0</td>\n      <td>20.0</td>\n      <td>100.0</td>\n      <td>55.0</td>\n      <td>20.0</td>\n      <td>...</td>\n      <td>17.0</td>\n      <td>21.0</td>\n      <td>15.0</td>\n      <td>39.0</td>\n      <td>8.0</td>\n      <td>19.0</td>\n      <td>25.0</td>\n      <td>34.0</td>\n      <td>2.0</td>\n      <td>2.0</td>\n    </tr>\n    <tr>\n      <th>total fat (PDV)</th>\n      <td>0.0</td>\n      <td>0.0</td>\n      <td>13.0</td>\n      <td>0.0</td>\n      <td>0.0</td>\n      <td>0.0</td>\n      <td>0.0</td>\n      <td>53.0</td>\n      <td>93.0</td>\n      <td>25.0</td>\n      <td>...</td>\n      <td>11.0</td>\n      <td>17.0</td>\n      <td>49.0</td>\n      <td>2.0</td>\n      <td>0.0</td>\n      <td>30.0</td>\n      <td>13.0</td>\n      <td>26.0</td>\n      <td>0.0</td>\n      <td>6.0</td>\n    </tr>\n  </tbody>\n</table>\n<p>5 rows × 230185 columns</p>\n</div>"
     },
     "execution_count": 45,
     "metadata": {},
     "output_type": "execute_result"
    }
   ],
   "source": [
    "recipe_name__nutritional_composition_table = merged_df.pivot_table(columns='name',values=['total fat (PDV)','sugar (PDV)','sodium (PDV)','saturated fat (PDV)','carbohydrates (PDV)'])\n",
    "recipe_name__nutritional_composition_table"
   ],
   "metadata": {
    "collapsed": false
   }
  },
  {
   "cell_type": "markdown",
   "source": [
    "Remember after the user signs up and logs in we ask the user to select three dishes / recipes that he / she enjoys. The next step uses each of the selection to find recipes that correlate closely with the selections that the user made and with that recommendations can be made for the user.\n",
    "\n",
    "Ideally the selections would be added to the user's profile from where it would be retrieved during filtering. For the purpose of this research we are picking random database entries as the user's selection using the recipe name."
   ],
   "metadata": {
    "collapsed": false
   }
  },
  {
   "cell_type": "code",
   "execution_count": 47,
   "outputs": [],
   "source": [
    "user_selection = [\"the elvis  smoothie\", \"the best  banana bread  or muffins\", \"alouette  potatoes\"]"
   ],
   "metadata": {
    "collapsed": false
   }
  },
  {
   "cell_type": "markdown",
   "source": [
    "For the purpose of clarity we first work with one of the user's selections rather than all three.\n",
    "We find generate a similarity score compared to the user's selection for other recipes in the dataset using the corrwith function which allows us to compute pairwise correlations using pearson correlation (standard correlation coefficient)."
   ],
   "metadata": {
    "collapsed": false
   }
  },
  {
   "cell_type": "code",
   "execution_count": 48,
   "outputs": [
    {
     "data": {
      "text/plain": "name\n0 carb   0 cal gummy worms             -0.503295\n0 fat chunky watermelon salsa           0.943994\n0 point ice cream  only 1 ingredient    0.962551\n0 point soup   ww                       0.745576\n0 point soup  crock pot                 0.910049\n                                          ...   \nzydeco sauce                            0.147375\nzydeco shrimp wrap                     -0.143137\nzydeco soup                             0.746938\nzydeco spice mix                       -0.445410\nzydeco ya ya deviled eggs              -0.078868\nLength: 230185, dtype: float64"
     },
     "execution_count": 48,
     "metadata": {},
     "output_type": "execute_result"
    }
   ],
   "source": [
    "user_selection_1 = user_selection[0]\n",
    "\n",
    "df_entry_for_user_selection_1 = recipe_name__nutritional_composition_table[user_selection_1]\n",
    "\n",
    "similarity_through_correlation = recipe_name__nutritional_composition_table.corrwith(df_entry_for_user_selection_1)\n",
    "similarity_through_correlation"
   ],
   "metadata": {
    "collapsed": false
   }
  },
  {
   "cell_type": "markdown",
   "source": [
    "Now we create a dataframe containing the result of the correlation process with columns containing the name and correlation coefficient for each recipe."
   ],
   "metadata": {
    "collapsed": false
   }
  },
  {
   "cell_type": "code",
   "execution_count": 49,
   "outputs": [
    {
     "data": {
      "text/plain": "                                      Correlation\nname                                             \n0 carb   0 cal gummy worms              -0.503295\n0 fat chunky watermelon salsa            0.943994\n0 point ice cream  only 1 ingredient     0.962551\n0 point soup   ww                        0.745576\n0 point soup  crock pot                  0.910049",
      "text/html": "<div>\n<style scoped>\n    .dataframe tbody tr th:only-of-type {\n        vertical-align: middle;\n    }\n\n    .dataframe tbody tr th {\n        vertical-align: top;\n    }\n\n    .dataframe thead th {\n        text-align: right;\n    }\n</style>\n<table border=\"1\" class=\"dataframe\">\n  <thead>\n    <tr style=\"text-align: right;\">\n      <th></th>\n      <th>Correlation</th>\n    </tr>\n    <tr>\n      <th>name</th>\n      <th></th>\n    </tr>\n  </thead>\n  <tbody>\n    <tr>\n      <th>0 carb   0 cal gummy worms</th>\n      <td>-0.503295</td>\n    </tr>\n    <tr>\n      <th>0 fat chunky watermelon salsa</th>\n      <td>0.943994</td>\n    </tr>\n    <tr>\n      <th>0 point ice cream  only 1 ingredient</th>\n      <td>0.962551</td>\n    </tr>\n    <tr>\n      <th>0 point soup   ww</th>\n      <td>0.745576</td>\n    </tr>\n    <tr>\n      <th>0 point soup  crock pot</th>\n      <td>0.910049</td>\n    </tr>\n  </tbody>\n</table>\n</div>"
     },
     "execution_count": 49,
     "metadata": {},
     "output_type": "execute_result"
    }
   ],
   "source": [
    "recipe_name__correlation_coefficient_df = pd.DataFrame(similarity_through_correlation,columns=['Correlation'])\n",
    "recipe_name__correlation_coefficient_df.dropna(inplace=True)\n",
    "recipe_name__correlation_coefficient_df.head()"
   ],
   "metadata": {
    "collapsed": false
   }
  },
  {
   "cell_type": "markdown",
   "source": [
    "Next we output the number of recipes with the same correlation"
   ],
   "metadata": {
    "collapsed": false
   }
  },
  {
   "cell_type": "code",
   "execution_count": 63,
   "outputs": [
    {
     "data": {
      "text/plain": "Correlation\n 0.956624      578\n 0.944437      169\n 0.942469      155\n-0.467477      154\n 0.947156      148\n              ... \n-0.152754        1\n-0.152739        1\n-0.152734        1\n-0.152731        1\n 1.000000        1\nName: count, Length: 205712, dtype: int64"
     },
     "execution_count": 63,
     "metadata": {},
     "output_type": "execute_result"
    }
   ],
   "source": [
    "recipe_name__correlation_coefficient_df.value_counts()"
   ],
   "metadata": {
    "collapsed": false
   }
  },
  {
   "cell_type": "markdown",
   "source": [
    "We then retrieve 10 entries with the highest correction coefficients ( greater than 0.999)"
   ],
   "metadata": {
    "collapsed": false
   }
  },
  {
   "cell_type": "code",
   "execution_count": 70,
   "outputs": [
    {
     "data": {
      "text/plain": "name\nchocolate zucchini bars                                    True\nbourbon st   chocolate pecan pie                           True\nmarinated lamb chops with honeyed onions                   True\nblender cream of tomato soup with stilton                  True\nlemon blueberry puff tart                                  True\npassover cookies                                           True\nhawaii island energy bars                                  True\ntofu chocolate  ice cream                                  True\nroast chicken with dried fruit and almonds                 True\ngrilled chicken breast with spicy pineapple mango salsa    True\nName: Correlation, dtype: bool"
     },
     "execution_count": 70,
     "metadata": {},
     "output_type": "execute_result"
    }
   ],
   "source": [
    "(recipe_name__correlation_coefficient_df['Correlation']> 0.999000).sort_values(ascending = False).head(10)"
   ],
   "metadata": {
    "collapsed": false
   }
  },
  {
   "cell_type": "markdown",
   "source": [],
   "metadata": {
    "collapsed": false
   }
  },
  {
   "cell_type": "markdown",
   "source": [
    "The 10 recipes returned could be our recommendation to the user based on one of the selections he / she made. We could return more recipes if need be by increasing the value passed to the head() function.\n",
    "\n",
    "We could generate recipe recommendations using all the user's selections also. In this case we return five recommendations similar to each of the user's selections and in the end we would have 15 recommended recipes."
   ],
   "metadata": {
    "collapsed": false
   }
  },
  {
   "cell_type": "code",
   "execution_count": 71,
   "outputs": [],
   "source": [
    "recommended_recipes = []"
   ],
   "metadata": {
    "collapsed": false
   }
  },
  {
   "cell_type": "markdown",
   "source": [
    "Iterate over each user selection"
   ],
   "metadata": {
    "collapsed": false
   }
  },
  {
   "cell_type": "code",
   "execution_count": 101,
   "outputs": [],
   "source": [
    "for selection in user_selection:\n",
    "    df_entry_for_user_selection = recipe_name__nutritional_composition_table[selection]\n",
    "    similarity_through_correlation = recipe_name__nutritional_composition_table.corrwith(df_entry_for_user_selection)\n",
    "    recipe_name__correlation_coefficient_df = pd.DataFrame(similarity_through_correlation, columns=['Correlation'])\n",
    "    recipe_name__correlation_coefficient_df.dropna(inplace=True)\n",
    "    similar_recipes = recipe_name__correlation_coefficient_df[recipe_name__correlation_coefficient_df['Correlation'] > 0.999000]\n",
    "    recommended_recipes.extend(similar_recipes.index.tolist())"
   ],
   "metadata": {
    "collapsed": false
   }
  },
  {
   "cell_type": "markdown",
   "source": [
    "Get unique recipe recommendations"
   ],
   "metadata": {
    "collapsed": false
   }
  },
  {
   "cell_type": "code",
   "execution_count": 102,
   "outputs": [],
   "source": [
    "recommended_recipes = list(set(recommended_recipes))"
   ],
   "metadata": {
    "collapsed": false
   }
  },
  {
   "cell_type": "markdown",
   "source": [
    "Select top 15 recommended recipes"
   ],
   "metadata": {
    "collapsed": false
   }
  },
  {
   "cell_type": "code",
   "execution_count": 103,
   "outputs": [
    {
     "data": {
      "text/plain": "['the best gingerbread you ll ever have',\n 'basbousa',\n 'baby s pecan pie',\n 'starbucks gingerbread',\n 'wood family s seafoam salad aka  green stuff',\n 'easy bake oven raisin chocolate chip cookies',\n 'honey fudge cake for a crowd',\n 'iraqi date sweetmeat  holwah tamar   gluten free',\n 'ultimate basic birthday yellow cake  1   layer',\n 'gourmet hot cocoa mix',\n 'aruba duba do muffins',\n 'raspberry pretzel dessert',\n 'almond   poppy seed muffins',\n 'super easy cinnamon rolls',\n 'marmalade cookies']"
     },
     "execution_count": 103,
     "metadata": {},
     "output_type": "execute_result"
    }
   ],
   "source": [
    "list_of_recommended_recipes = recommended_recipes[:15]\n",
    "list_of_recommended_recipes"
   ],
   "metadata": {
    "collapsed": false
   }
  },
  {
   "cell_type": "markdown",
   "source": [
    "We can also output the recommended recipes as a dataframe"
   ],
   "metadata": {
    "collapsed": false
   }
  },
  {
   "cell_type": "code",
   "execution_count": 114,
   "outputs": [
    {
     "data": {
      "text/plain": "                                         Recipe Name\n0              the best gingerbread you ll ever have\n1                                           basbousa\n2                                   baby s pecan pie\n3                              starbucks gingerbread\n4       wood family s seafoam salad aka  green stuff\n5       easy bake oven raisin chocolate chip cookies\n6                       honey fudge cake for a crowd\n7   iraqi date sweetmeat  holwah tamar   gluten free\n8     ultimate basic birthday yellow cake  1   layer\n9                              gourmet hot cocoa mix\n10                             aruba duba do muffins\n11                         raspberry pretzel dessert\n12                       almond   poppy seed muffins\n13                         super easy cinnamon rolls\n14                                 marmalade cookies",
      "text/html": "<div>\n<style scoped>\n    .dataframe tbody tr th:only-of-type {\n        vertical-align: middle;\n    }\n\n    .dataframe tbody tr th {\n        vertical-align: top;\n    }\n\n    .dataframe thead th {\n        text-align: right;\n    }\n</style>\n<table border=\"1\" class=\"dataframe\">\n  <thead>\n    <tr style=\"text-align: right;\">\n      <th></th>\n      <th>Recipe Name</th>\n    </tr>\n  </thead>\n  <tbody>\n    <tr>\n      <th>0</th>\n      <td>the best gingerbread you ll ever have</td>\n    </tr>\n    <tr>\n      <th>1</th>\n      <td>basbousa</td>\n    </tr>\n    <tr>\n      <th>2</th>\n      <td>baby s pecan pie</td>\n    </tr>\n    <tr>\n      <th>3</th>\n      <td>starbucks gingerbread</td>\n    </tr>\n    <tr>\n      <th>4</th>\n      <td>wood family s seafoam salad aka  green stuff</td>\n    </tr>\n    <tr>\n      <th>5</th>\n      <td>easy bake oven raisin chocolate chip cookies</td>\n    </tr>\n    <tr>\n      <th>6</th>\n      <td>honey fudge cake for a crowd</td>\n    </tr>\n    <tr>\n      <th>7</th>\n      <td>iraqi date sweetmeat  holwah tamar   gluten free</td>\n    </tr>\n    <tr>\n      <th>8</th>\n      <td>ultimate basic birthday yellow cake  1   layer</td>\n    </tr>\n    <tr>\n      <th>9</th>\n      <td>gourmet hot cocoa mix</td>\n    </tr>\n    <tr>\n      <th>10</th>\n      <td>aruba duba do muffins</td>\n    </tr>\n    <tr>\n      <th>11</th>\n      <td>raspberry pretzel dessert</td>\n    </tr>\n    <tr>\n      <th>12</th>\n      <td>almond   poppy seed muffins</td>\n    </tr>\n    <tr>\n      <th>13</th>\n      <td>super easy cinnamon rolls</td>\n    </tr>\n    <tr>\n      <th>14</th>\n      <td>marmalade cookies</td>\n    </tr>\n  </tbody>\n</table>\n</div>"
     },
     "execution_count": 114,
     "metadata": {},
     "output_type": "execute_result"
    }
   ],
   "source": [
    "recommended_recipes_df = pd.DataFrame({'Recipe Name': recommended_recipes})\n",
    "recommended_recipes_df.head(15)"
   ],
   "metadata": {
    "collapsed": false
   }
  },
  {
   "cell_type": "markdown",
   "source": [
    "We can also show the food type for each of the recipes generated. This will allow the user to filter the recommendations based on his or her preferences or nutritional goals.\n",
    "\n",
    "First we merge recommended_recipes_df with merged_df on \"Recipe Name\":"
   ],
   "metadata": {
    "collapsed": false
   }
  },
  {
   "cell_type": "code",
   "execution_count": 112,
   "outputs": [],
   "source": [
    "recommended_recipes_with_food_type_df = recommended_recipes_df.merge(merged_df[['name', 'food types']], left_on='Recipe Name', right_on=\"name\", how='left')"
   ],
   "metadata": {
    "collapsed": false
   }
  },
  {
   "cell_type": "markdown",
   "source": [
    "Next we select only the \"Recipe Name\" and \"food types\" columns:"
   ],
   "metadata": {
    "collapsed": false
   }
  },
  {
   "cell_type": "code",
   "execution_count": 113,
   "outputs": [
    {
     "data": {
      "text/plain": "                                         Recipe Name   food types\n0              the best gingerbread you ll ever have          Veg\n1                                           basbousa          Veg\n2                                   baby s pecan pie      Non-veg\n3                              starbucks gingerbread          Veg\n4       wood family s seafoam salad aka  green stuff      Healthy\n5       easy bake oven raisin chocolate chip cookies  Veg dessert\n6                       honey fudge cake for a crowd      Healthy\n7   iraqi date sweetmeat  holwah tamar   gluten free      Healthy\n8     ultimate basic birthday yellow cake  1   layer      Healthy\n9                              gourmet hot cocoa mix  Veg dessert\n10                             aruba duba do muffins      Healthy\n11                         raspberry pretzel dessert          Veg\n12                       almond   poppy seed muffins      Healthy\n13                         super easy cinnamon rolls      Healthy\n14                                 marmalade cookies      Healthy",
      "text/html": "<div>\n<style scoped>\n    .dataframe tbody tr th:only-of-type {\n        vertical-align: middle;\n    }\n\n    .dataframe tbody tr th {\n        vertical-align: top;\n    }\n\n    .dataframe thead th {\n        text-align: right;\n    }\n</style>\n<table border=\"1\" class=\"dataframe\">\n  <thead>\n    <tr style=\"text-align: right;\">\n      <th></th>\n      <th>Recipe Name</th>\n      <th>food types</th>\n    </tr>\n  </thead>\n  <tbody>\n    <tr>\n      <th>0</th>\n      <td>the best gingerbread you ll ever have</td>\n      <td>Veg</td>\n    </tr>\n    <tr>\n      <th>1</th>\n      <td>basbousa</td>\n      <td>Veg</td>\n    </tr>\n    <tr>\n      <th>2</th>\n      <td>baby s pecan pie</td>\n      <td>Non-veg</td>\n    </tr>\n    <tr>\n      <th>3</th>\n      <td>starbucks gingerbread</td>\n      <td>Veg</td>\n    </tr>\n    <tr>\n      <th>4</th>\n      <td>wood family s seafoam salad aka  green stuff</td>\n      <td>Healthy</td>\n    </tr>\n    <tr>\n      <th>5</th>\n      <td>easy bake oven raisin chocolate chip cookies</td>\n      <td>Veg dessert</td>\n    </tr>\n    <tr>\n      <th>6</th>\n      <td>honey fudge cake for a crowd</td>\n      <td>Healthy</td>\n    </tr>\n    <tr>\n      <th>7</th>\n      <td>iraqi date sweetmeat  holwah tamar   gluten free</td>\n      <td>Healthy</td>\n    </tr>\n    <tr>\n      <th>8</th>\n      <td>ultimate basic birthday yellow cake  1   layer</td>\n      <td>Healthy</td>\n    </tr>\n    <tr>\n      <th>9</th>\n      <td>gourmet hot cocoa mix</td>\n      <td>Veg dessert</td>\n    </tr>\n    <tr>\n      <th>10</th>\n      <td>aruba duba do muffins</td>\n      <td>Healthy</td>\n    </tr>\n    <tr>\n      <th>11</th>\n      <td>raspberry pretzel dessert</td>\n      <td>Veg</td>\n    </tr>\n    <tr>\n      <th>12</th>\n      <td>almond   poppy seed muffins</td>\n      <td>Healthy</td>\n    </tr>\n    <tr>\n      <th>13</th>\n      <td>super easy cinnamon rolls</td>\n      <td>Healthy</td>\n    </tr>\n    <tr>\n      <th>14</th>\n      <td>marmalade cookies</td>\n      <td>Healthy</td>\n    </tr>\n  </tbody>\n</table>\n</div>"
     },
     "execution_count": 113,
     "metadata": {},
     "output_type": "execute_result"
    }
   ],
   "source": [
    "recommended_recipes_with_food_type_df.drop(columns='name', inplace=True)\n",
    "recommended_recipes_with_food_type_df = recommended_recipes_with_food_type_df[['Recipe Name', 'food types']]\n",
    "recommended_recipes_with_food_type_df.head(15)"
   ],
   "metadata": {
    "collapsed": false
   }
  },
  {
   "cell_type": "markdown",
   "source": [
    "It is also possible to recommend Recipes based on the users food type preference beforehand so that all the recipe recommendations are of the same food type.\n",
    "\n",
    "Ideally the food type preference could be retrieved from the user's profile, but for the purpose of this research we assign a food type to the desired_food_type variable."
   ],
   "metadata": {
    "collapsed": false
   }
  },
  {
   "cell_type": "code",
   "execution_count": 107,
   "outputs": [],
   "source": [
    "desired_food_type = \"Veg\""
   ],
   "metadata": {
    "collapsed": false
   }
  },
  {
   "cell_type": "markdown",
   "source": [
    "We then filter for food items matching the user's desired food type"
   ],
   "metadata": {
    "collapsed": false
   }
  },
  {
   "cell_type": "code",
   "execution_count": 109,
   "outputs": [],
   "source": [
    "filtered_recipes_df = recommended_recipes_with_food_type_df[recommended_recipes_with_food_type_df['food types'] == desired_food_type]"
   ],
   "metadata": {
    "collapsed": false
   }
  },
  {
   "cell_type": "markdown",
   "source": [
    "We can subsequently output the top 15 recipe recommendations similar to the user's initial selections and matching the desired food type:"
   ],
   "metadata": {
    "collapsed": false
   }
  },
  {
   "cell_type": "markdown",
   "source": [],
   "metadata": {
    "collapsed": false
   }
  },
  {
   "cell_type": "code",
   "execution_count": 110,
   "outputs": [
    {
     "data": {
      "text/plain": "                                          Recipe Name food types\n0               the best gingerbread you ll ever have        Veg\n1                                            basbousa        Veg\n3                               starbucks gingerbread        Veg\n11                          raspberry pretzel dessert        Veg\n15            grandma s blueberry streusel coffeecake        Veg\n16                                   oatmeal jim jams        Veg\n21          summertime fresh blackberry peach cobbler        Veg\n23                  mandarin orange   pineapple salad        Veg\n35      super easy banana mini nilla southern pudding        Veg\n37                 vegan chocolate macadamia smoothie        Veg\n43             apple cobbler with sweet biscuit crust        Veg\n44  alouette extra creamy brie with dried fruit an...        Veg\n47                             aloha hawaiian granola        Veg\n48    real homemade pudding   lancaster county recipe        Veg\n63                               peachy cheese danish        Veg",
      "text/html": "<div>\n<style scoped>\n    .dataframe tbody tr th:only-of-type {\n        vertical-align: middle;\n    }\n\n    .dataframe tbody tr th {\n        vertical-align: top;\n    }\n\n    .dataframe thead th {\n        text-align: right;\n    }\n</style>\n<table border=\"1\" class=\"dataframe\">\n  <thead>\n    <tr style=\"text-align: right;\">\n      <th></th>\n      <th>Recipe Name</th>\n      <th>food types</th>\n    </tr>\n  </thead>\n  <tbody>\n    <tr>\n      <th>0</th>\n      <td>the best gingerbread you ll ever have</td>\n      <td>Veg</td>\n    </tr>\n    <tr>\n      <th>1</th>\n      <td>basbousa</td>\n      <td>Veg</td>\n    </tr>\n    <tr>\n      <th>3</th>\n      <td>starbucks gingerbread</td>\n      <td>Veg</td>\n    </tr>\n    <tr>\n      <th>11</th>\n      <td>raspberry pretzel dessert</td>\n      <td>Veg</td>\n    </tr>\n    <tr>\n      <th>15</th>\n      <td>grandma s blueberry streusel coffeecake</td>\n      <td>Veg</td>\n    </tr>\n    <tr>\n      <th>16</th>\n      <td>oatmeal jim jams</td>\n      <td>Veg</td>\n    </tr>\n    <tr>\n      <th>21</th>\n      <td>summertime fresh blackberry peach cobbler</td>\n      <td>Veg</td>\n    </tr>\n    <tr>\n      <th>23</th>\n      <td>mandarin orange   pineapple salad</td>\n      <td>Veg</td>\n    </tr>\n    <tr>\n      <th>35</th>\n      <td>super easy banana mini nilla southern pudding</td>\n      <td>Veg</td>\n    </tr>\n    <tr>\n      <th>37</th>\n      <td>vegan chocolate macadamia smoothie</td>\n      <td>Veg</td>\n    </tr>\n    <tr>\n      <th>43</th>\n      <td>apple cobbler with sweet biscuit crust</td>\n      <td>Veg</td>\n    </tr>\n    <tr>\n      <th>44</th>\n      <td>alouette extra creamy brie with dried fruit an...</td>\n      <td>Veg</td>\n    </tr>\n    <tr>\n      <th>47</th>\n      <td>aloha hawaiian granola</td>\n      <td>Veg</td>\n    </tr>\n    <tr>\n      <th>48</th>\n      <td>real homemade pudding   lancaster county recipe</td>\n      <td>Veg</td>\n    </tr>\n    <tr>\n      <th>63</th>\n      <td>peachy cheese danish</td>\n      <td>Veg</td>\n    </tr>\n  </tbody>\n</table>\n</div>"
     },
     "execution_count": 110,
     "metadata": {},
     "output_type": "execute_result"
    }
   ],
   "source": [
    "top_15_recipes = filtered_recipes_df.head(15)\n",
    "top_15_recipes"
   ],
   "metadata": {
    "collapsed": false
   }
  }
 ],
 "metadata": {
  "kernelspec": {
   "display_name": "Python 3",
   "language": "python",
   "name": "python3"
  },
  "language_info": {
   "codemirror_mode": {
    "name": "ipython",
    "version": 2
   },
   "file_extension": ".py",
   "mimetype": "text/x-python",
   "name": "python",
   "nbconvert_exporter": "python",
   "pygments_lexer": "ipython2",
   "version": "2.7.6"
  }
 },
 "nbformat": 4,
 "nbformat_minor": 0
}
